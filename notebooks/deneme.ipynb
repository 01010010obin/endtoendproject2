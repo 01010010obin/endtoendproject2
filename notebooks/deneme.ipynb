{
 "cells": [
  {
   "cell_type": "code",
   "execution_count": 2,
   "id": "75b8ae20",
   "metadata": {},
   "outputs": [],
   "source": [
    "import os"
   ]
  },
  {
   "cell_type": "code",
   "execution_count": 1,
   "id": "0c3bbf32",
   "metadata": {},
   "outputs": [
    {
     "data": {
      "text/plain": [
       "'e:\\\\MLOps Bootcamp\\\\NetworkSecurity\\\\netsec\\\\notebooks'"
      ]
     },
     "execution_count": 1,
     "metadata": {},
     "output_type": "execute_result"
    }
   ],
   "source": [
    "%pwd"
   ]
  },
  {
   "cell_type": "code",
   "execution_count": 3,
   "id": "f80da735",
   "metadata": {},
   "outputs": [
    {
     "data": {
      "text/plain": [
       "'e:\\\\MLOps Bootcamp\\\\NetworkSecurity\\\\netsec'"
      ]
     },
     "execution_count": 3,
     "metadata": {},
     "output_type": "execute_result"
    }
   ],
   "source": [
    "os.chdir('../')\n",
    "%pwd"
   ]
  },
  {
   "cell_type": "code",
   "execution_count": 4,
   "id": "0aafd2c1",
   "metadata": {},
   "outputs": [],
   "source": [
    "from networksecurity.constants.training_pipeline import SCHEMA_FILE_PATH\n",
    "from networksecurity.utils.main_utils.utils import read_yaml_file"
   ]
  },
  {
   "cell_type": "code",
   "execution_count": 5,
   "id": "1df8154e",
   "metadata": {},
   "outputs": [],
   "source": [
    "schema = read_yaml_file(SCHEMA_FILE_PATH)"
   ]
  },
  {
   "cell_type": "code",
   "execution_count": 6,
   "id": "779fca3f",
   "metadata": {},
   "outputs": [
    {
     "data": {
      "text/plain": [
       "2"
      ]
     },
     "execution_count": 6,
     "metadata": {},
     "output_type": "execute_result"
    }
   ],
   "source": [
    "len(schema)"
   ]
  },
  {
   "cell_type": "code",
   "execution_count": 8,
   "id": "9c464c43",
   "metadata": {},
   "outputs": [
    {
     "data": {
      "text/plain": [
       "31"
      ]
     },
     "execution_count": 8,
     "metadata": {},
     "output_type": "execute_result"
    }
   ],
   "source": [
    "len(schema[\"columns\"])"
   ]
  },
  {
   "cell_type": "code",
   "execution_count": 16,
   "id": "535920f9",
   "metadata": {},
   "outputs": [
    {
     "data": {
      "text/plain": [
       "[{'having_IP_Address': 'int64'},\n",
       " {'URL_Length': 'int64'},\n",
       " {'Shortining_Service': 'int64'},\n",
       " {'having_At_Symbol': 'int64'},\n",
       " {'double_slash_redirecting': 'int64'},\n",
       " {'Prefix_Suffix': 'int64'},\n",
       " {'having_Sub_Domain': 'int64'},\n",
       " {'SSLfinal_State': 'int64'},\n",
       " {'Domain_registeration_length': 'int64'},\n",
       " {'Favicon': 'int64'},\n",
       " {'port': 'int64'},\n",
       " {'HTTPS_token': 'int64'},\n",
       " {'Request_URL': 'int64'},\n",
       " {'URL_of_Anchor': 'int64'},\n",
       " {'Links_in_tags': 'int64'},\n",
       " {'SFH': 'int64'},\n",
       " {'Submitting_to_email': 'int64'},\n",
       " {'Abnormal_URL': 'int64'},\n",
       " {'Redirect': 'int64'},\n",
       " {'on_mouseover': 'int64'},\n",
       " {'RightClick': 'int64'},\n",
       " {'popUpWidnow': 'int64'},\n",
       " {'Iframe': 'int64'},\n",
       " {'age_of_domain': 'int64'},\n",
       " {'DNSRecord': 'int64'},\n",
       " {'web_traffic': 'int64'},\n",
       " {'Page_Rank': 'int64'},\n",
       " {'Google_Index': 'int64'},\n",
       " {'Links_pointing_to_page': 'int64'},\n",
       " {'Statistical_report': 'int64'},\n",
       " {'Result': 'int64'}]"
      ]
     },
     "execution_count": 16,
     "metadata": {},
     "output_type": "execute_result"
    }
   ],
   "source": [
    "schema[\"columns\"]"
   ]
  },
  {
   "cell_type": "code",
   "execution_count": 23,
   "id": "0c2bac73",
   "metadata": {},
   "outputs": [
    {
     "name": "stdout",
     "output_type": "stream",
     "text": [
      "having_IP_Address\n",
      "URL_Length\n",
      "Shortining_Service\n",
      "having_At_Symbol\n",
      "double_slash_redirecting\n",
      "Prefix_Suffix\n",
      "having_Sub_Domain\n",
      "SSLfinal_State\n",
      "Domain_registeration_length\n",
      "Favicon\n",
      "port\n",
      "HTTPS_token\n",
      "Request_URL\n",
      "URL_of_Anchor\n",
      "Links_in_tags\n",
      "SFH\n",
      "Submitting_to_email\n",
      "Abnormal_URL\n",
      "Redirect\n",
      "on_mouseover\n",
      "RightClick\n",
      "popUpWidnow\n",
      "Iframe\n",
      "age_of_domain\n",
      "DNSRecord\n",
      "web_traffic\n",
      "Page_Rank\n",
      "Google_Index\n",
      "Links_pointing_to_page\n",
      "Statistical_report\n",
      "Result\n"
     ]
    }
   ],
   "source": [
    "for i in range(len(schema['columns'])):\n",
    "    for key, val in schema[\"columns\"][i].items():\n",
    "        print(key)"
   ]
  },
  {
   "cell_type": "code",
   "execution_count": null,
   "id": "8c6fcb13",
   "metadata": {},
   "outputs": [],
   "source": []
  }
 ],
 "metadata": {
  "kernelspec": {
   "display_name": "Python 3",
   "language": "python",
   "name": "python3"
  },
  "language_info": {
   "codemirror_mode": {
    "name": "ipython",
    "version": 3
   },
   "file_extension": ".py",
   "mimetype": "text/x-python",
   "name": "python",
   "nbconvert_exporter": "python",
   "pygments_lexer": "ipython3",
   "version": "3.13.0"
  }
 },
 "nbformat": 4,
 "nbformat_minor": 5
}
